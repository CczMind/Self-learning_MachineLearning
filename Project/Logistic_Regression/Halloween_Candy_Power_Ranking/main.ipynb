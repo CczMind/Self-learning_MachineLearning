{
 "cells": [
  {
   "cell_type": "markdown",
   "id": "3a5fa7ed",
   "metadata": {},
   "source": [
    "### 关于数据集 | About Dataset"
   ]
  },
  {
   "cell_type": "markdown",
   "id": "fdf126f7",
   "metadata": {},
   "source": [
    "https://www.kaggle.com/datasets/fivethirtyeight/the-ultimate-halloween-candy-power-ranking/data"
   ]
  },
  {
   "cell_type": "markdown",
   "id": "ef5aefa0",
   "metadata": {},
   "source": [
    "#### 背景 | Context\n",
    "\n",
    "What’s the best (or at least the most popular) Halloween candy?"
   ]
  },
  {
   "cell_type": "markdown",
   "metadata": {},
   "source": [
    "#### 内容 | Content\n",
    "\n",
    "在Candy.csv中包含了每种糖果的属性及其排名。对于二元变量，1表示“是”，0表示“否”。"
   ]
  },
  {
   "cell_type": "markdown",
   "id": "1b623a69",
   "metadata": {},
   "source": [
    "- chocolate\n",
    "  - 是否含有巧克力\n",
    "- fruity\n",
    "  - 是否是水果味的？\n",
    "- caramel\n",
    "  - 是否含有焦糖\n",
    "- peanutalmondy (peanuts, peanut butter, almonds)\n",
    "  - 花生杏仁类（是否含有花生、花生酱或杏仁？）\n",
    "- nougat\n",
    "  - 是否含有牛轧糖？\n",
    "- crispedricewafer (crisped rice, wafers, cookie)\n",
    "  - 脆米威化饼（是否含有脆米、威化饼或饼干成分？）\n",
    "- hard\n",
    "  - 是否坚硬？\n",
    "- bar\n",
    "  - 是否是棒状的？\n",
    "- pluribus\n",
    "  - 是否是一袋或一盒中的一个？\n",
    "- sugarpercent: The percentile of sugar it falls under within the data set.\n",
    "  - 含糖量百分比：在数据集中其含糖量所处的百分比区间。\n",
    "- pricepercent: The unit price percentile compared to the rest of the set.\n",
    "  - 价格百分比：与该组其他产品相比的单价百分位数。\n",
    "- winpercent: The overall win percentage according to 269,000 matchups.\n",
    "  - 胜率：根据26.9万投票得出的总胜率。"
   ]
  },
  {
   "cell_type": "markdown",
   "id": "d6e691c8",
   "metadata": {},
   "source": [
    "---"
   ]
  },
  {
   "cell_type": "markdown",
   "id": "950ff2d2",
   "metadata": {},
   "source": []
  },
  {
   "cell_type": "markdown",
   "id": "8a1b2ee6",
   "metadata": {},
   "source": []
  },
  {
   "cell_type": "code",
   "execution_count": null,
   "id": "c04757ac",
   "metadata": {},
   "outputs": [],
   "source": []
  },
  {
   "cell_type": "code",
   "execution_count": null,
   "id": "e6b5ec7c",
   "metadata": {},
   "outputs": [],
   "source": []
  }
 ],
 "metadata": {
  "kernelspec": {
   "display_name": "test2",
   "language": "python",
   "name": "python3"
  },
  "language_info": {
   "name": "python",
   "version": "3.12.11"
  }
 },
 "nbformat": 4,
 "nbformat_minor": 5
}
