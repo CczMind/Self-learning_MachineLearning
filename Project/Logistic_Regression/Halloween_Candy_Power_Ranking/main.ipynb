{
 "cells": [
  {
   "cell_type": "markdown",
   "id": "3a5fa7ed",
   "metadata": {},
   "source": [
    "### 关于数据集 | About Dataset"
   ]
  },
  {
   "cell_type": "markdown",
   "id": "fdf126f7",
   "metadata": {},
   "source": [
    "https://www.kaggle.com/datasets/fivethirtyeight/the-ultimate-halloween-candy-power-ranking/data"
   ]
  },
  {
   "cell_type": "markdown",
   "id": "ef5aefa0",
   "metadata": {},
   "source": [
    "#### 背景 | Context\n",
    "\n",
    "What’s the best (or at least the most popular) Halloween candy?"
   ]
  },
  {
   "cell_type": "markdown",
   "metadata": {},
   "source": [
    "#### 内容 | Content\n",
    "\n",
    "在Candy.csv中包含了每种糖果的属性及其排名。对于二元变量，1表示“是”，0表示“否”。"
   ]
  },
  {
   "cell_type": "markdown",
   "id": "1b623a69",
   "metadata": {},
   "source": [
    "- chocolate: Does it contain Chocolate?\n",
    "  - 是否含有巧克力\n",
    "- fruity: Is it fruit flavored?\n",
    "  - 是否是水果味的？\n",
    "- caramel: Is there caramel in the candy?\n",
    "  - 是否含有焦糖？\n",
    "- peanutalmondy (peanuts, peanut butter, almonds)\n",
    "  - 花生杏仁类（是否含有花生、花生酱或杏仁？）\n",
    "- nougat: Does it contain nougat?\n",
    "  - 是否含有牛轧糖？\n",
    "- crispedricewafer (crisped rice, wafers, cookie)\n",
    "  - 脆米威化饼（是否含有脆米、威化饼或饼干成分？）\n",
    "- hard: Is it a hard candy?\n",
    "  - 是否坚硬？\n",
    "- bar: Is it a candy bar?\n",
    "  - 是否是棒状的？\n",
    "- pluribus: Is it one of many candies in a bag or box?\n",
    "  - 是否是一袋或一盒中的一个？\n",
    "- sugarpercent: The percentile of sugar it falls under within the data set.\n",
    "  - 含糖量百分比：在数据集中其含糖量所处的百分比区间。\n",
    "- pricepercent: The unit price percentile compared to the rest of the set.\n",
    "  - 价格百分比：与该组其他产品相比的单价百分位数。\n",
    "- winpercent: The overall win percentage according to 269,000 matchups.\n",
    "  - 胜率：根据26.9万投票得出的总胜率。"
   ]
  },
  {
   "cell_type": "markdown",
   "id": "d6e691c8",
   "metadata": {},
   "source": [
    "---"
   ]
  },
  {
   "cell_type": "markdown",
   "id": "950ff2d2",
   "metadata": {},
   "source": [
    "#### 主要目标 | Paimary objective\n",
    "\n",
    "- 通过利用不同的分类模型，并结合糖果的附加特征，来预测该糖果是否以巧克力为基础。\n",
    "\n",
    "- Utilizing a different classification Model to predict whether a candy is Chocolate-based, leveraging its additional features.\n"
   ]
  },
  {
   "cell_type": "markdown",
   "id": "7d121b42",
   "metadata": {},
   "source": [
    "---"
   ]
  },
  {
   "cell_type": "markdown",
   "id": "05a851ce",
   "metadata": {},
   "source": [
    "### 实例"
   ]
  },
  {
   "cell_type": "markdown",
   "id": "328885d4",
   "metadata": {},
   "source": [
    "---"
   ]
  },
  {
   "cell_type": "code",
   "execution_count": 1,
   "id": "c04757ac",
   "metadata": {},
   "outputs": [],
   "source": [
    "import numpy as np\n",
    "import pandas as pd\n",
    "import matplotlib.pyplot as plt\n",
    "import seaborn as sns\n"
   ]
  },
  {
   "cell_type": "code",
   "execution_count": 14,
   "id": "e6b5ec7c",
   "metadata": {},
   "outputs": [
    {
     "data": {
      "image/png": "[encoded data removed]",
      "text/plain": [
       "<Figure size 800x100 with 1 Axes>"
      ]
     },
     "metadata": {},
     "output_type": "display_data"
    }
   ],
   "source": [
    "def viridis_palette():\n",
    "    sns.palplot(sns.color_palette(\"viridis\", 8))\n",
    "    plt.title(\"Viridis palette\", fontsize = 15)\n",
    "    plt.show()\n",
    "\n",
    "viridis_palette()"
   ]
  },
  {
   "cell_type": "code",
   "execution_count": 15,
   "id": "6162b208",
   "metadata": {},
   "outputs": [],
   "source": [
    "df = pd.read_csv(\"Candy.csv\")\n"
   ]
  },
  {
   "cell_type": "markdown",
   "id": "f0c7810b",
   "metadata": {},
   "source": [
    "---\n",
    "\n",
    "#### 1.数据预处理 | Data Preprocessing\n",
    "\n",
    "---"
   ]
  },
  {
   "cell_type": "code",
   "execution_count": 20,
   "id": "253175e1",
   "metadata": {},
   "outputs": [
    {
     "data": {
      "text/html": [
       "<style type=\"text/css\">\n",
       "#T_6cdcf_row0_col1, #T_6cdcf_row0_col3, #T_6cdcf_row0_col6, #T_6cdcf_row0_col8, #T_6cdcf_row0_col11, #T_6cdcf_row1_col1, #T_6cdcf_row1_col5, #T_6cdcf_row1_col8, #T_6cdcf_row1_col12, #T_6cdcf_row4_col2, #T_6cdcf_row4_col10 {\n",
       "  background-color: #fde725;\n",
       "  color: #000000;\n",
       "}\n",
       "#T_6cdcf_row0_col2, #T_6cdcf_row0_col4, #T_6cdcf_row0_col5, #T_6cdcf_row0_col7, #T_6cdcf_row0_col9, #T_6cdcf_row1_col2, #T_6cdcf_row1_col3, #T_6cdcf_row1_col4, #T_6cdcf_row1_col6, #T_6cdcf_row1_col7, #T_6cdcf_row1_col9, #T_6cdcf_row2_col1, #T_6cdcf_row2_col2, #T_6cdcf_row2_col3, #T_6cdcf_row2_col4, #T_6cdcf_row2_col5, #T_6cdcf_row2_col6, #T_6cdcf_row2_col7, #T_6cdcf_row2_col8, #T_6cdcf_row2_col9, #T_6cdcf_row2_col10, #T_6cdcf_row2_col11, #T_6cdcf_row2_col12, #T_6cdcf_row3_col1, #T_6cdcf_row3_col2, #T_6cdcf_row3_col3, #T_6cdcf_row3_col4, #T_6cdcf_row3_col5, #T_6cdcf_row3_col6, #T_6cdcf_row3_col7, #T_6cdcf_row3_col8, #T_6cdcf_row3_col9, #T_6cdcf_row3_col10, #T_6cdcf_row4_col1, #T_6cdcf_row4_col3, #T_6cdcf_row4_col4, #T_6cdcf_row4_col5, #T_6cdcf_row4_col6, #T_6cdcf_row4_col7, #T_6cdcf_row4_col8, #T_6cdcf_row4_col9 {\n",
       "  background-color: #440154;\n",
       "  color: #f1f1f1;\n",
       "}\n",
       "#T_6cdcf_row0_col10 {\n",
       "  background-color: #7fd34e;\n",
       "  color: #000000;\n",
       "}\n",
       "#T_6cdcf_row0_col12 {\n",
       "  background-color: #f4e61e;\n",
       "  color: #000000;\n",
       "}\n",
       "#T_6cdcf_row1_col10 {\n",
       "  background-color: #34b679;\n",
       "  color: #f1f1f1;\n",
       "}\n",
       "#T_6cdcf_row1_col11, #T_6cdcf_row3_col11, #T_6cdcf_row4_col11 {\n",
       "  background-color: #1f978b;\n",
       "  color: #f1f1f1;\n",
       "}\n",
       "#T_6cdcf_row3_col12 {\n",
       "  background-color: #2a768e;\n",
       "  color: #f1f1f1;\n",
       "}\n",
       "#T_6cdcf_row4_col12 {\n",
       "  background-color: #1fa188;\n",
       "  color: #f1f1f1;\n",
       "}\n",
       "</style>\n",
       "<table id=\"T_6cdcf\">\n",
       "  <thead>\n",
       "    <tr>\n",
       "      <th id=\"T_6cdcf_level0_col0\" class=\"col_heading level0 col0\" >competitorname</th>\n",
       "      <th id=\"T_6cdcf_level0_col1\" class=\"col_heading level0 col1\" >chocolate</th>\n",
       "      <th id=\"T_6cdcf_level0_col2\" class=\"col_heading level0 col2\" >fruity</th>\n",
       "      <th id=\"T_6cdcf_level0_col3\" class=\"col_heading level0 col3\" >caramel</th>\n",
       "      <th id=\"T_6cdcf_level0_col4\" class=\"col_heading level0 col4\" >peanutyalmondy</th>\n",
       "      <th id=\"T_6cdcf_level0_col5\" class=\"col_heading level0 col5\" >nougat</th>\n",
       "      <th id=\"T_6cdcf_level0_col6\" class=\"col_heading level0 col6\" >crispedricewafer</th>\n",
       "      <th id=\"T_6cdcf_level0_col7\" class=\"col_heading level0 col7\" >hard</th>\n",
       "      <th id=\"T_6cdcf_level0_col8\" class=\"col_heading level0 col8\" >bar</th>\n",
       "      <th id=\"T_6cdcf_level0_col9\" class=\"col_heading level0 col9\" >pluribus</th>\n",
       "      <th id=\"T_6cdcf_level0_col10\" class=\"col_heading level0 col10\" >sugarpercent</th>\n",
       "      <th id=\"T_6cdcf_level0_col11\" class=\"col_heading level0 col11\" >pricepercent</th>\n",
       "      <th id=\"T_6cdcf_level0_col12\" class=\"col_heading level0 col12\" >winpercent</th>\n",
       "    </tr>\n",
       "  </thead>\n",
       "  <tbody>\n",
       "    <tr>\n",
       "      <td id=\"T_6cdcf_row0_col0\" class=\"data row0 col0\" >100 Grand</td>\n",
       "      <td id=\"T_6cdcf_row0_col1\" class=\"data row0 col1\" >1</td>\n",
       "      <td id=\"T_6cdcf_row0_col2\" class=\"data row0 col2\" >0</td>\n",
       "      <td id=\"T_6cdcf_row0_col3\" class=\"data row0 col3\" >1</td>\n",
       "      <td id=\"T_6cdcf_row0_col4\" class=\"data row0 col4\" >0</td>\n",
       "      <td id=\"T_6cdcf_row0_col5\" class=\"data row0 col5\" >0</td>\n",
       "      <td id=\"T_6cdcf_row0_col6\" class=\"data row0 col6\" >1</td>\n",
       "      <td id=\"T_6cdcf_row0_col7\" class=\"data row0 col7\" >0</td>\n",
       "      <td id=\"T_6cdcf_row0_col8\" class=\"data row0 col8\" >1</td>\n",
       "      <td id=\"T_6cdcf_row0_col9\" class=\"data row0 col9\" >0</td>\n",
       "      <td id=\"T_6cdcf_row0_col10\" class=\"data row0 col10\" >0.732000</td>\n",
       "      <td id=\"T_6cdcf_row0_col11\" class=\"data row0 col11\" >0.860000</td>\n",
       "      <td id=\"T_6cdcf_row0_col12\" class=\"data row0 col12\" >66.971725</td>\n",
       "    </tr>\n",
       "    <tr>\n",
       "      <td id=\"T_6cdcf_row1_col0\" class=\"data row1 col0\" >3 Musketeers</td>\n",
       "      <td id=\"T_6cdcf_row1_col1\" class=\"data row1 col1\" >1</td>\n",
       "      <td id=\"T_6cdcf_row1_col2\" class=\"data row1 col2\" >0</td>\n",
       "      <td id=\"T_6cdcf_row1_col3\" class=\"data row1 col3\" >0</td>\n",
       "      <td id=\"T_6cdcf_row1_col4\" class=\"data row1 col4\" >0</td>\n",
       "      <td id=\"T_6cdcf_row1_col5\" class=\"data row1 col5\" >1</td>\n",
       "      <td id=\"T_6cdcf_row1_col6\" class=\"data row1 col6\" >0</td>\n",
       "      <td id=\"T_6cdcf_row1_col7\" class=\"data row1 col7\" >0</td>\n",
       "      <td id=\"T_6cdcf_row1_col8\" class=\"data row1 col8\" >1</td>\n",
       "      <td id=\"T_6cdcf_row1_col9\" class=\"data row1 col9\" >0</td>\n",
       "      <td id=\"T_6cdcf_row1_col10\" class=\"data row1 col10\" >0.604000</td>\n",
       "      <td id=\"T_6cdcf_row1_col11\" class=\"data row1 col11\" >0.511000</td>\n",
       "      <td id=\"T_6cdcf_row1_col12\" class=\"data row1 col12\" >67.602936</td>\n",
       "    </tr>\n",
       "    <tr>\n",
       "      <td id=\"T_6cdcf_row2_col0\" class=\"data row2 col0\" >One dime</td>\n",
       "      <td id=\"T_6cdcf_row2_col1\" class=\"data row2 col1\" >0</td>\n",
       "      <td id=\"T_6cdcf_row2_col2\" class=\"data row2 col2\" >0</td>\n",
       "      <td id=\"T_6cdcf_row2_col3\" class=\"data row2 col3\" >0</td>\n",
       "      <td id=\"T_6cdcf_row2_col4\" class=\"data row2 col4\" >0</td>\n",
       "      <td id=\"T_6cdcf_row2_col5\" class=\"data row2 col5\" >0</td>\n",
       "      <td id=\"T_6cdcf_row2_col6\" class=\"data row2 col6\" >0</td>\n",
       "      <td id=\"T_6cdcf_row2_col7\" class=\"data row2 col7\" >0</td>\n",
       "      <td id=\"T_6cdcf_row2_col8\" class=\"data row2 col8\" >0</td>\n",
       "      <td id=\"T_6cdcf_row2_col9\" class=\"data row2 col9\" >0</td>\n",
       "      <td id=\"T_6cdcf_row2_col10\" class=\"data row2 col10\" >0.011000</td>\n",
       "      <td id=\"T_6cdcf_row2_col11\" class=\"data row2 col11\" >0.116000</td>\n",
       "      <td id=\"T_6cdcf_row2_col12\" class=\"data row2 col12\" >32.261086</td>\n",
       "    </tr>\n",
       "    <tr>\n",
       "      <td id=\"T_6cdcf_row3_col0\" class=\"data row3 col0\" >One quarter</td>\n",
       "      <td id=\"T_6cdcf_row3_col1\" class=\"data row3 col1\" >0</td>\n",
       "      <td id=\"T_6cdcf_row3_col2\" class=\"data row3 col2\" >0</td>\n",
       "      <td id=\"T_6cdcf_row3_col3\" class=\"data row3 col3\" >0</td>\n",
       "      <td id=\"T_6cdcf_row3_col4\" class=\"data row3 col4\" >0</td>\n",
       "      <td id=\"T_6cdcf_row3_col5\" class=\"data row3 col5\" >0</td>\n",
       "      <td id=\"T_6cdcf_row3_col6\" class=\"data row3 col6\" >0</td>\n",
       "      <td id=\"T_6cdcf_row3_col7\" class=\"data row3 col7\" >0</td>\n",
       "      <td id=\"T_6cdcf_row3_col8\" class=\"data row3 col8\" >0</td>\n",
       "      <td id=\"T_6cdcf_row3_col9\" class=\"data row3 col9\" >0</td>\n",
       "      <td id=\"T_6cdcf_row3_col10\" class=\"data row3 col10\" >0.011000</td>\n",
       "      <td id=\"T_6cdcf_row3_col11\" class=\"data row3 col11\" >0.511000</td>\n",
       "      <td id=\"T_6cdcf_row3_col12\" class=\"data row3 col12\" >46.116505</td>\n",
       "    </tr>\n",
       "    <tr>\n",
       "      <td id=\"T_6cdcf_row4_col0\" class=\"data row4 col0\" >Air Heads</td>\n",
       "      <td id=\"T_6cdcf_row4_col1\" class=\"data row4 col1\" >0</td>\n",
       "      <td id=\"T_6cdcf_row4_col2\" class=\"data row4 col2\" >1</td>\n",
       "      <td id=\"T_6cdcf_row4_col3\" class=\"data row4 col3\" >0</td>\n",
       "      <td id=\"T_6cdcf_row4_col4\" class=\"data row4 col4\" >0</td>\n",
       "      <td id=\"T_6cdcf_row4_col5\" class=\"data row4 col5\" >0</td>\n",
       "      <td id=\"T_6cdcf_row4_col6\" class=\"data row4 col6\" >0</td>\n",
       "      <td id=\"T_6cdcf_row4_col7\" class=\"data row4 col7\" >0</td>\n",
       "      <td id=\"T_6cdcf_row4_col8\" class=\"data row4 col8\" >0</td>\n",
       "      <td id=\"T_6cdcf_row4_col9\" class=\"data row4 col9\" >0</td>\n",
       "      <td id=\"T_6cdcf_row4_col10\" class=\"data row4 col10\" >0.906000</td>\n",
       "      <td id=\"T_6cdcf_row4_col11\" class=\"data row4 col11\" >0.511000</td>\n",
       "      <td id=\"T_6cdcf_row4_col12\" class=\"data row4 col12\" >52.341465</td>\n",
       "    </tr>\n",
       "  </tbody>\n",
       "</table>\n"
      ],
      "text/plain": [
       "<pandas.io.formats.style.Styler at 0x1e8bd4c16d0>"
      ]
     },
     "execution_count": 20,
     "metadata": {},
     "output_type": "execute_result"
    }
   ],
   "source": [
    "df.head().style.background_gradient(cmap = \"viridis\").hide(axis = \"index\")"
   ]
  },
  {
   "cell_type": "code",
   "execution_count": null,
   "id": "fcebeeec",
   "metadata": {},
   "outputs": [
    {
     "data": {
      "text/plain": [
       "competitorname      0\n",
       "chocolate           0\n",
       "fruity              0\n",
       "caramel             0\n",
       "peanutyalmondy      0\n",
       "nougat              0\n",
       "crispedricewafer    0\n",
       "hard                0\n",
       "bar                 0\n",
       "pluribus            0\n",
       "sugarpercent        0\n",
       "pricepercent        0\n",
       "winpercent          0\n",
       "dtype: int64"
      ]
     },
     "execution_count": 21,
     "metadata": {},
     "output_type": "execute_result"
    }
   ],
   "source": [
    "df.isnull().sum()\n"
   ]
  },
  {
   "cell_type": "markdown",
   "id": "274fa1e3",
   "metadata": {},
   "source": [
    "Luckily, we don't have any missing values."
   ]
  },
  {
   "cell_type": "code",
   "execution_count": 22,
   "id": "dae4507a",
   "metadata": {},
   "outputs": [
    {
     "name": "stdout",
     "output_type": "stream",
     "text": [
      "<class 'pandas.core.frame.DataFrame'>\n",
      "RangeIndex: 85 entries, 0 to 84\n",
      "Data columns (total 13 columns):\n",
      " #   Column            Non-Null Count  Dtype  \n",
      "---  ------            --------------  -----  \n",
      " 0   competitorname    85 non-null     object \n",
      " 1   chocolate         85 non-null     int64  \n",
      " 2   fruity            85 non-null     int64  \n",
      " 3   caramel           85 non-null     int64  \n",
      " 4   peanutyalmondy    85 non-null     int64  \n",
      " 5   nougat            85 non-null     int64  \n",
      " 6   crispedricewafer  85 non-null     int64  \n",
      " 7   hard              85 non-null     int64  \n",
      " 8   bar               85 non-null     int64  \n",
      " 9   pluribus          85 non-null     int64  \n",
      " 10  sugarpercent      85 non-null     float64\n",
      " 11  pricepercent      85 non-null     float64\n",
      " 12  winpercent        85 non-null     float64\n",
      "dtypes: float64(3), int64(9), object(1)\n",
      "memory usage: 8.8+ KB\n"
     ]
    }
   ],
   "source": [
    "df.info()\n"
   ]
  },
  {
   "cell_type": "markdown",
   "id": "4a078583",
   "metadata": {},
   "source": [
    "---\n",
    "\n",
    "#### 2.探索性数据分析 | Exploratory Data Analysis\n",
    "\n",
    "---"
   ]
  },
  {
   "cell_type": "markdown",
   "id": "cc960c23",
   "metadata": {},
   "source": [
    "This will be an EXPLORATORY (探索性) visualization, as opposed to EXPLANATORY (解释性).\n",
    "\n",
    "| **特征**         | **探索性可视化 (EXPLORATORY)**              | **解释性可视化 (EXPLANATORY)**            |\n",
    "|------------------|-------------------------------------------|------------------------------------------|\n",
    "| **核心目标**     | 理解数据、寻找模式、发现线索、形成假设       | 清晰传达特定发现、故事、结论或论点         |\n",
    "| **受众**         | 你自己或小团队（分析师、数据科学家）         | 更广泛的受众（管理者、客户、公众、决策者） |\n",
    "| **交互性**       | 高（过滤、缩放、下钻、悬停查看详情）         | 低（通常为静态图表或预设动线）             |\n",
    "| **复杂度**       | 可接受较高（多视图、复杂图表、原始数据点）    | 力求简洁（突出关键信息，避免干扰）         |\n",
    "| **数据呈现**     | 常显示更多原始数据点、分布、不确定性         | 强调聚合、摘要、趋势线、关键指标         |\n",
    "| **外观打磨**     | 相对粗糙（标签、颜色可能不完美）             | 高度打磨（清晰标注、吸引人、品牌一致）     |\n",
    "| **核心问题**     | “数据里有什么？” “发生了什么？”             | “这意味着什么？” “为什么重要？” “该怎么做？” |\n",
    "| **类比**         | 侦探在案发现场搜寻线索                     | 侦探在法庭上展示证据和推理                 |\n",
    "\n"
   ]
  },
  {
   "cell_type": "markdown",
   "id": "a2b8fdf1",
   "metadata": {},
   "source": [
    "**探索性：**\n",
    "\n",
    "- 数据分析**前期**的工作\n",
    "- 面对的是一个（相对）未知的数据集，或者一个模糊的问题。\n",
    "- 目标不是给出最终答案，而是\n",
    "  - 了解数据的结构、分布、范围和质量（是否存在缺失值、异常值？）。\n",
    "  - 识别潜在的模式、趋势、关联性或聚类。\n",
    "  - 发现意料之外的见解或异常值。\n",
    "  - 提出后续需要深入研究的问题。\n",
    "  - 形成关于数据背后故事或机制的初步假设。\n",
    "\n",
    "特点\n",
    "- 高交互性：交互性是快速迭代和深入探索的基础。\n",
    "- 更“原始”的数据\n",
    "- 多视图\n",
    "- 尝试性\n",
    "- 不那么“完美：快速看到数据“说什么”\n",
    "\n",
    "设定预期：这些图表是我在摸索过程中画的，目的是找出线索，它们可能不完美，也不代表最终结论。\n",
    "避免误解： 防止别人把探索过程中不成熟或存在误导的视图当作确定的结论。\n",
    "\n",
    "> 我（或我们）正在使用可视化作为工具来主动挖掘、调查和理解数据，寻找隐藏的模式和故事起点。这些视图是过程性的、交互性强的、可能比较‘粗糙’，主要用于分析和形成洞见，而不是用于最终的展示或说服他人"
   ]
  },
  {
   "cell_type": "markdown",
   "id": "6d5970f3",
   "metadata": {},
   "source": [
    "Rename the columns for better understanding and aesthetics."
   ]
  },
  {
   "cell_type": "code",
   "execution_count": 25,
   "id": "ece5c49e",
   "metadata": {},
   "outputs": [],
   "source": [
    "mapping = {\n",
    "    \"competitorname\": \"Candy Name\",\n",
    "    \"chocolate\": \"Chocolate\",\n",
    "    \"fruity\": \"Fruity\",\n",
    "    \"caramel\": \"Caramel\",\n",
    "    \"peanutalmondy\": \"Peanuts & Nuts\",\n",
    "    \"nougat\": \"Nougat\",\n",
    "    \"crispedricewafer\": \"Crispy\",\n",
    "    \"hard\": \"Hard Candy\",\n",
    "    \"bar\": \"Candy Bar\",\n",
    "    \"pluribus\": \"Multi-piece\",\n",
    "    \"sugarpercent\": \"Sugar Percentage\",\n",
    "    \"pricepercent\": \"Price Percentage\",\n",
    "    \"winpercent\": \"Win Percentage\",\n",
    "}\n",
    "df = df.rename(columns = mapping)\n"
   ]
  },
  {
   "cell_type": "code",
   "execution_count": 26,
   "id": "e6bc5bae",
   "metadata": {},
   "outputs": [
    {
     "data": {
      "text/html": [
       "<style type=\"text/css\">\n",
       "#T_1b6eb_row0_col1, #T_1b6eb_row0_col3, #T_1b6eb_row0_col6, #T_1b6eb_row0_col8, #T_1b6eb_row0_col11, #T_1b6eb_row1_col1, #T_1b6eb_row1_col5, #T_1b6eb_row1_col8, #T_1b6eb_row1_col12, #T_1b6eb_row4_col2, #T_1b6eb_row4_col10 {\n",
       "  background-color: #fde725;\n",
       "  color: #000000;\n",
       "}\n",
       "#T_1b6eb_row0_col2, #T_1b6eb_row0_col4, #T_1b6eb_row0_col5, #T_1b6eb_row0_col7, #T_1b6eb_row0_col9, #T_1b6eb_row1_col2, #T_1b6eb_row1_col3, #T_1b6eb_row1_col4, #T_1b6eb_row1_col6, #T_1b6eb_row1_col7, #T_1b6eb_row1_col9, #T_1b6eb_row2_col1, #T_1b6eb_row2_col2, #T_1b6eb_row2_col3, #T_1b6eb_row2_col4, #T_1b6eb_row2_col5, #T_1b6eb_row2_col6, #T_1b6eb_row2_col7, #T_1b6eb_row2_col8, #T_1b6eb_row2_col9, #T_1b6eb_row2_col10, #T_1b6eb_row2_col11, #T_1b6eb_row2_col12, #T_1b6eb_row3_col1, #T_1b6eb_row3_col2, #T_1b6eb_row3_col3, #T_1b6eb_row3_col4, #T_1b6eb_row3_col5, #T_1b6eb_row3_col6, #T_1b6eb_row3_col7, #T_1b6eb_row3_col8, #T_1b6eb_row3_col9, #T_1b6eb_row3_col10, #T_1b6eb_row4_col1, #T_1b6eb_row4_col3, #T_1b6eb_row4_col4, #T_1b6eb_row4_col5, #T_1b6eb_row4_col6, #T_1b6eb_row4_col7, #T_1b6eb_row4_col8, #T_1b6eb_row4_col9 {\n",
       "  background-color: #440154;\n",
       "  color: #f1f1f1;\n",
       "}\n",
       "#T_1b6eb_row0_col10 {\n",
       "  background-color: #7fd34e;\n",
       "  color: #000000;\n",
       "}\n",
       "#T_1b6eb_row0_col12 {\n",
       "  background-color: #f4e61e;\n",
       "  color: #000000;\n",
       "}\n",
       "#T_1b6eb_row1_col10 {\n",
       "  background-color: #34b679;\n",
       "  color: #f1f1f1;\n",
       "}\n",
       "#T_1b6eb_row1_col11, #T_1b6eb_row3_col11, #T_1b6eb_row4_col11 {\n",
       "  background-color: #1f978b;\n",
       "  color: #f1f1f1;\n",
       "}\n",
       "#T_1b6eb_row3_col12 {\n",
       "  background-color: #2a768e;\n",
       "  color: #f1f1f1;\n",
       "}\n",
       "#T_1b6eb_row4_col12 {\n",
       "  background-color: #1fa188;\n",
       "  color: #f1f1f1;\n",
       "}\n",
       "</style>\n",
       "<table id=\"T_1b6eb\">\n",
       "  <thead>\n",
       "    <tr>\n",
       "      <th id=\"T_1b6eb_level0_col0\" class=\"col_heading level0 col0\" >Candy Name</th>\n",
       "      <th id=\"T_1b6eb_level0_col1\" class=\"col_heading level0 col1\" >Chocolate</th>\n",
       "      <th id=\"T_1b6eb_level0_col2\" class=\"col_heading level0 col2\" >Fruity</th>\n",
       "      <th id=\"T_1b6eb_level0_col3\" class=\"col_heading level0 col3\" >Caramel</th>\n",
       "      <th id=\"T_1b6eb_level0_col4\" class=\"col_heading level0 col4\" >peanutyalmondy</th>\n",
       "      <th id=\"T_1b6eb_level0_col5\" class=\"col_heading level0 col5\" >Nougat</th>\n",
       "      <th id=\"T_1b6eb_level0_col6\" class=\"col_heading level0 col6\" >Crispy</th>\n",
       "      <th id=\"T_1b6eb_level0_col7\" class=\"col_heading level0 col7\" >Hard Candy</th>\n",
       "      <th id=\"T_1b6eb_level0_col8\" class=\"col_heading level0 col8\" >Candy Bar</th>\n",
       "      <th id=\"T_1b6eb_level0_col9\" class=\"col_heading level0 col9\" >Multi-piece</th>\n",
       "      <th id=\"T_1b6eb_level0_col10\" class=\"col_heading level0 col10\" >Sugar Percentage</th>\n",
       "      <th id=\"T_1b6eb_level0_col11\" class=\"col_heading level0 col11\" >Price Percentage</th>\n",
       "      <th id=\"T_1b6eb_level0_col12\" class=\"col_heading level0 col12\" >Win Percentage</th>\n",
       "    </tr>\n",
       "  </thead>\n",
       "  <tbody>\n",
       "    <tr>\n",
       "      <td id=\"T_1b6eb_row0_col0\" class=\"data row0 col0\" >100 Grand</td>\n",
       "      <td id=\"T_1b6eb_row0_col1\" class=\"data row0 col1\" >1</td>\n",
       "      <td id=\"T_1b6eb_row0_col2\" class=\"data row0 col2\" >0</td>\n",
       "      <td id=\"T_1b6eb_row0_col3\" class=\"data row0 col3\" >1</td>\n",
       "      <td id=\"T_1b6eb_row0_col4\" class=\"data row0 col4\" >0</td>\n",
       "      <td id=\"T_1b6eb_row0_col5\" class=\"data row0 col5\" >0</td>\n",
       "      <td id=\"T_1b6eb_row0_col6\" class=\"data row0 col6\" >1</td>\n",
       "      <td id=\"T_1b6eb_row0_col7\" class=\"data row0 col7\" >0</td>\n",
       "      <td id=\"T_1b6eb_row0_col8\" class=\"data row0 col8\" >1</td>\n",
       "      <td id=\"T_1b6eb_row0_col9\" class=\"data row0 col9\" >0</td>\n",
       "      <td id=\"T_1b6eb_row0_col10\" class=\"data row0 col10\" >0.732000</td>\n",
       "      <td id=\"T_1b6eb_row0_col11\" class=\"data row0 col11\" >0.860000</td>\n",
       "      <td id=\"T_1b6eb_row0_col12\" class=\"data row0 col12\" >66.971725</td>\n",
       "    </tr>\n",
       "    <tr>\n",
       "      <td id=\"T_1b6eb_row1_col0\" class=\"data row1 col0\" >3 Musketeers</td>\n",
       "      <td id=\"T_1b6eb_row1_col1\" class=\"data row1 col1\" >1</td>\n",
       "      <td id=\"T_1b6eb_row1_col2\" class=\"data row1 col2\" >0</td>\n",
       "      <td id=\"T_1b6eb_row1_col3\" class=\"data row1 col3\" >0</td>\n",
       "      <td id=\"T_1b6eb_row1_col4\" class=\"data row1 col4\" >0</td>\n",
       "      <td id=\"T_1b6eb_row1_col5\" class=\"data row1 col5\" >1</td>\n",
       "      <td id=\"T_1b6eb_row1_col6\" class=\"data row1 col6\" >0</td>\n",
       "      <td id=\"T_1b6eb_row1_col7\" class=\"data row1 col7\" >0</td>\n",
       "      <td id=\"T_1b6eb_row1_col8\" class=\"data row1 col8\" >1</td>\n",
       "      <td id=\"T_1b6eb_row1_col9\" class=\"data row1 col9\" >0</td>\n",
       "      <td id=\"T_1b6eb_row1_col10\" class=\"data row1 col10\" >0.604000</td>\n",
       "      <td id=\"T_1b6eb_row1_col11\" class=\"data row1 col11\" >0.511000</td>\n",
       "      <td id=\"T_1b6eb_row1_col12\" class=\"data row1 col12\" >67.602936</td>\n",
       "    </tr>\n",
       "    <tr>\n",
       "      <td id=\"T_1b6eb_row2_col0\" class=\"data row2 col0\" >One dime</td>\n",
       "      <td id=\"T_1b6eb_row2_col1\" class=\"data row2 col1\" >0</td>\n",
       "      <td id=\"T_1b6eb_row2_col2\" class=\"data row2 col2\" >0</td>\n",
       "      <td id=\"T_1b6eb_row2_col3\" class=\"data row2 col3\" >0</td>\n",
       "      <td id=\"T_1b6eb_row2_col4\" class=\"data row2 col4\" >0</td>\n",
       "      <td id=\"T_1b6eb_row2_col5\" class=\"data row2 col5\" >0</td>\n",
       "      <td id=\"T_1b6eb_row2_col6\" class=\"data row2 col6\" >0</td>\n",
       "      <td id=\"T_1b6eb_row2_col7\" class=\"data row2 col7\" >0</td>\n",
       "      <td id=\"T_1b6eb_row2_col8\" class=\"data row2 col8\" >0</td>\n",
       "      <td id=\"T_1b6eb_row2_col9\" class=\"data row2 col9\" >0</td>\n",
       "      <td id=\"T_1b6eb_row2_col10\" class=\"data row2 col10\" >0.011000</td>\n",
       "      <td id=\"T_1b6eb_row2_col11\" class=\"data row2 col11\" >0.116000</td>\n",
       "      <td id=\"T_1b6eb_row2_col12\" class=\"data row2 col12\" >32.261086</td>\n",
       "    </tr>\n",
       "    <tr>\n",
       "      <td id=\"T_1b6eb_row3_col0\" class=\"data row3 col0\" >One quarter</td>\n",
       "      <td id=\"T_1b6eb_row3_col1\" class=\"data row3 col1\" >0</td>\n",
       "      <td id=\"T_1b6eb_row3_col2\" class=\"data row3 col2\" >0</td>\n",
       "      <td id=\"T_1b6eb_row3_col3\" class=\"data row3 col3\" >0</td>\n",
       "      <td id=\"T_1b6eb_row3_col4\" class=\"data row3 col4\" >0</td>\n",
       "      <td id=\"T_1b6eb_row3_col5\" class=\"data row3 col5\" >0</td>\n",
       "      <td id=\"T_1b6eb_row3_col6\" class=\"data row3 col6\" >0</td>\n",
       "      <td id=\"T_1b6eb_row3_col7\" class=\"data row3 col7\" >0</td>\n",
       "      <td id=\"T_1b6eb_row3_col8\" class=\"data row3 col8\" >0</td>\n",
       "      <td id=\"T_1b6eb_row3_col9\" class=\"data row3 col9\" >0</td>\n",
       "      <td id=\"T_1b6eb_row3_col10\" class=\"data row3 col10\" >0.011000</td>\n",
       "      <td id=\"T_1b6eb_row3_col11\" class=\"data row3 col11\" >0.511000</td>\n",
       "      <td id=\"T_1b6eb_row3_col12\" class=\"data row3 col12\" >46.116505</td>\n",
       "    </tr>\n",
       "    <tr>\n",
       "      <td id=\"T_1b6eb_row4_col0\" class=\"data row4 col0\" >Air Heads</td>\n",
       "      <td id=\"T_1b6eb_row4_col1\" class=\"data row4 col1\" >0</td>\n",
       "      <td id=\"T_1b6eb_row4_col2\" class=\"data row4 col2\" >1</td>\n",
       "      <td id=\"T_1b6eb_row4_col3\" class=\"data row4 col3\" >0</td>\n",
       "      <td id=\"T_1b6eb_row4_col4\" class=\"data row4 col4\" >0</td>\n",
       "      <td id=\"T_1b6eb_row4_col5\" class=\"data row4 col5\" >0</td>\n",
       "      <td id=\"T_1b6eb_row4_col6\" class=\"data row4 col6\" >0</td>\n",
       "      <td id=\"T_1b6eb_row4_col7\" class=\"data row4 col7\" >0</td>\n",
       "      <td id=\"T_1b6eb_row4_col8\" class=\"data row4 col8\" >0</td>\n",
       "      <td id=\"T_1b6eb_row4_col9\" class=\"data row4 col9\" >0</td>\n",
       "      <td id=\"T_1b6eb_row4_col10\" class=\"data row4 col10\" >0.906000</td>\n",
       "      <td id=\"T_1b6eb_row4_col11\" class=\"data row4 col11\" >0.511000</td>\n",
       "      <td id=\"T_1b6eb_row4_col12\" class=\"data row4 col12\" >52.341465</td>\n",
       "    </tr>\n",
       "  </tbody>\n",
       "</table>\n"
      ],
      "text/plain": [
       "<pandas.io.formats.style.Styler at 0x1e8bd4d7c20>"
      ]
     },
     "execution_count": 26,
     "metadata": {},
     "output_type": "execute_result"
    }
   ],
   "source": [
    "df.head().style.background_gradient(cmap = \"viridis\").hide(axis = \"index\")\n"
   ]
  },
  {
   "cell_type": "code",
   "execution_count": 55,
   "id": "71b7a4b5",
   "metadata": {},
   "outputs": [],
   "source": [
    "def plot_choc_candy_ratio(df):\n",
    "    \n",
    "    choc_ratio = df[\"Chocolate\"].mean().round(2)\n",
    "    candy_ratio = 1 - choc_ratio\n",
    "\n",
    "    fig, ax = plt.subplots(figsize = (8, 2))\n",
    "\n",
    "    ax.barh([''], [candy_ratio], color = \"#472777\", alpha = 0.9, label = \"Candy\")\n",
    "    ax.barh([''], [choc_ratio], left=[candy_ratio], color = \"#35b778\", alpha = 0.9, label = \"Chocolate\")\n",
    "\n",
    "    ax.annotate(\n",
    "        f\"{int(candy_ratio * 100)}%\", \n",
    "        xy = (candy_ratio / 2, 0), \n",
    "        ha = \"center\",\n",
    "        va = \"center\",\n",
    "        color = \"white\", fontsize = 40, fontfamily = \"serif\"\n",
    "    )\n",
    "    ax.annotate(\n",
    "        f\"{int(choc_ratio * 100)}%\",\n",
    "        xy = (candy_ratio + choc_ratio / 2, 0),\n",
    "        ha = \"center\",\n",
    "        va = \"center\",\n",
    "        color = \"white\", fontsize = 40, fontfamily = \"serif\"\n",
    "    )\n",
    "\n",
    "    ax.set_title(\"Candy & Chocolate\", fontsize = 20, fontweight = \"bold\", fontfamily = \"serif\")\n",
    "    ax.axis('off')\n",
    "    ax.set_xlim(0, 1)\n",
    "    ax.legend(loc = \"upper center\", fontsize = 15, bbox_to_anchor=(0.5, -0.15), ncol=2)\n",
    "\n",
    "    plt.tight_layout()\n",
    "    plt.show()\n"
   ]
  },
  {
   "cell_type": "code",
   "execution_count": 56,
   "id": "8135bfd3",
   "metadata": {},
   "outputs": [
    {
     "data": {
      "image/png": "[encoded data removed]",
      "text/plain": [
       "<Figure size 800x200 with 1 Axes>"
      ]
     },
     "metadata": {},
     "output_type": "display_data"
    }
   ],
   "source": [
    "plot_choc_candy_ratio(df)\n"
   ]
  },
  {
   "cell_type": "code",
   "execution_count": null,
   "id": "c0203f13",
   "metadata": {},
   "outputs": [],
   "source": []
  }
 ],
 "metadata": {
  "kernelspec": {
   "display_name": "test2",
   "language": "python",
   "name": "python3"
  },
  "language_info": {
   "codemirror_mode": {
    "name": "ipython",
    "version": 3
   },
   "file_extension": ".py",
   "mimetype": "text/x-python",
   "name": "python",
   "nbconvert_exporter": "python",
   "pygments_lexer": "ipython3",
   "version": "3.12.11"
  }
 },
 "nbformat": 4,
 "nbformat_minor": 5
}
